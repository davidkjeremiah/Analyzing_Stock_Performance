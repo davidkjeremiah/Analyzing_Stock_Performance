{
 "cells": [
  {
   "cell_type": "markdown",
   "metadata": {},
   "source": [
    "# **Extracting Stock Data Using a Python Library**\n",
    "Created on Wed Aug 3 08:00:12 2022\n",
    "\n",
    "@author: David K. Jeremiah"
   ]
  },
  {
   "cell_type": "markdown",
   "metadata": {},
   "source": [
    "## **Introduction**\n",
    "A company's [stock](https://www.investopedia.com/terms/s/stock.asp) share is a piece of the company, more precisely.\n",
    "\n",
    "A stock (also known as [equity](https://www.investopedia.com/terms/e/equity.asp#:~:text=Equity%20represents%20the%20value%20that,debts%20associated%20with%20that%20asset) is a security that represents the ownership of a fraction of a corporation. This entitles the owner of the stock to a proportion of the corporation's assets and profits equal to how much stock they own. Units of stock are called \"shares.\"\n",
    "\n",
    "An investor can buy a stock and sell it later. If the stock price increases, the investor profits, If it decreases,the investor with incur a loss. Determining the stock price is complex; it depends on the number of outstanding shares, the size of the company's future profits, and much more."
   ]
  },
  {
   "cell_type": "markdown",
   "metadata": {},
   "source": [
    "## **Objective**\n",
    "In this lab we will extract stock data using a Python library. \n",
    "\n",
    "We will use the `yfinance` library. It allows us to extract information about the stocks - returning data in a pandas dataframe."
   ]
  },
  {
   "cell_type": "markdown",
   "metadata": {},
   "source": [
    "## **Table of Contents**\n",
    "* Using yfinance to Extract Stock Info\n",
    "* Using yfinance to Extract Historical Share Price Data\n",
    "* Using yfinance to Extract Historical Dividends Data"
   ]
  },
  {
   "cell_type": "code",
   "execution_count": 1,
   "metadata": {},
   "outputs": [
    {
     "name": "stdout",
     "output_type": "stream",
     "text": [
      "Collecting yfinance==0.1.67\n",
      "  Downloading yfinance-0.1.67-py2.py3-none-any.whl (25 kB)\n",
      "Requirement already satisfied: lxml>=4.5.1 in c:\\users\\david jerry\\anaconda3\\lib\\site-packages (from yfinance==0.1.67) (4.6.3)\n",
      "Requirement already satisfied: requests>=2.20 in c:\\users\\david jerry\\anaconda3\\lib\\site-packages (from yfinance==0.1.67) (2.26.0)\n",
      "Requirement already satisfied: pandas>=0.24 in c:\\users\\david jerry\\anaconda3\\lib\\site-packages (from yfinance==0.1.67) (1.3.4)\n",
      "Requirement already satisfied: numpy>=1.15 in c:\\users\\david jerry\\anaconda3\\lib\\site-packages (from yfinance==0.1.67) (1.20.3)\n",
      "Collecting multitasking>=0.0.7\n",
      "  Downloading multitasking-0.0.11-py3-none-any.whl (8.5 kB)\n",
      "Requirement already satisfied: pytz>=2017.3 in c:\\users\\david jerry\\anaconda3\\lib\\site-packages (from pandas>=0.24->yfinance==0.1.67) (2021.3)\n",
      "Requirement already satisfied: python-dateutil>=2.7.3 in c:\\users\\david jerry\\anaconda3\\lib\\site-packages (from pandas>=0.24->yfinance==0.1.67) (2.8.2)\n",
      "Requirement already satisfied: six>=1.5 in c:\\users\\david jerry\\anaconda3\\lib\\site-packages (from python-dateutil>=2.7.3->pandas>=0.24->yfinance==0.1.67) (1.16.0)\n",
      "Requirement already satisfied: urllib3<1.27,>=1.21.1 in c:\\users\\david jerry\\anaconda3\\lib\\site-packages (from requests>=2.20->yfinance==0.1.67) (1.26.7)\n",
      "Requirement already satisfied: idna<4,>=2.5 in c:\\users\\david jerry\\anaconda3\\lib\\site-packages (from requests>=2.20->yfinance==0.1.67) (3.2)\n",
      "Requirement already satisfied: certifi>=2017.4.17 in c:\\users\\david jerry\\anaconda3\\lib\\site-packages (from requests>=2.20->yfinance==0.1.67) (2021.10.8)\n",
      "Requirement already satisfied: charset-normalizer~=2.0.0 in c:\\users\\david jerry\\anaconda3\\lib\\site-packages (from requests>=2.20->yfinance==0.1.67) (2.0.4)\n",
      "Installing collected packages: multitasking, yfinance\n",
      "Successfully installed multitasking-0.0.11 yfinance-0.1.67\n"
     ]
    }
   ],
   "source": [
    "# install the yfinance library\n",
    "!pip3 install yfinance==0.1.67"
   ]
  },
  {
   "cell_type": "code",
   "execution_count": 2,
   "metadata": {},
   "outputs": [],
   "source": [
    "# import the necessary libraries\n",
    "import yfinance as yf\n",
    "import pandas as pd"
   ]
  },
  {
   "cell_type": "markdown",
   "metadata": {},
   "source": [
    "## **Using the yfinance Library to Extract Stock Data**\n",
    "***Note:*** We have what we call as the [stock ticker](https://www.investopedia.com/ask/answers/12/what-is-a-stock-ticker.asp#:~:text=A%20stock%20ticker%20is%20a,movement%20is%20up%20or%20down), which is a report of the price of a certain stock, updated continuously throughout the trading session by the various stock market exchanges. The y-finance API is used to obtain the stock ticker and extract information about the stock. \n",
    "\n",
    "Using the `Ticker` module from the yfinance library, we can create an object that will allow us to access functions to extract data. To do this we need to provide the ticker symbol for the stock, here the company is `Apple` and the ticker symbol is `AAPL`."
   ]
  },
  {
   "cell_type": "code",
   "execution_count": 13,
   "metadata": {},
   "outputs": [],
   "source": [
    "# For Apple stock\n",
    "apple = yf.Ticker(\"AAPL\")"
   ]
  },
  {
   "cell_type": "code",
   "execution_count": 14,
   "metadata": {},
   "outputs": [
    {
     "name": "stdout",
     "output_type": "stream",
     "text": [
      "yfinance.Ticker object <AAPL>\n"
     ]
    }
   ],
   "source": [
    "print(apple)"
   ]
  },
  {
   "cell_type": "markdown",
   "metadata": {},
   "source": [
    "Now we can access functions and variables to extract the type of data we need."
   ]
  },
  {
   "cell_type": "markdown",
   "metadata": {},
   "source": [
    "### **Stock Info**\n",
    "Using the attribute `info` we can extract information about the stock as a Python dictionary."
   ]
  },
  {
   "cell_type": "code",
   "execution_count": 15,
   "metadata": {},
   "outputs": [
    {
     "name": "stdout",
     "output_type": "stream",
     "text": [
      "{'zip': '95014', 'sector': 'Technology', 'fullTimeEmployees': 154000, 'longBusinessSummary': 'Apple Inc. designs, manufactures, and markets smartphones, personal computers, tablets, wearables, and accessories worldwide. It also sells various related services. In addition, the company offers iPhone, a line of smartphones; Mac, a line of personal computers; iPad, a line of multi-purpose tablets; AirPods Max, an over-ear wireless headphone; and wearables, home, and accessories comprising AirPods, Apple TV, Apple Watch, Beats products, HomePod, and iPod touch. Further, it provides AppleCare support services; cloud services store services; and operates various platforms, including the App Store that allow customers to discover and download applications and digital content, such as books, music, video, games, and podcasts. Additionally, the company offers various services, such as Apple Arcade, a game subscription service; Apple Music, which offers users a curated listening experience with on-demand radio stations; Apple News+, a subscription news and magazine service; Apple TV+, which offers exclusive original content; Apple Card, a co-branded credit card; and Apple Pay, a cashless payment service, as well as licenses its intellectual property. The company serves consumers, and small and mid-sized businesses; and the education, enterprise, and government markets. It distributes third-party applications for its products through the App Store. The company also sells its products through its retail and online stores, and direct sales force; and third-party cellular network carriers, wholesalers, retailers, and resellers. Apple Inc. was incorporated in 1977 and is headquartered in Cupertino, California.', 'city': 'Cupertino', 'phone': '408 996 1010', 'state': 'CA', 'country': 'United States', 'companyOfficers': [], 'website': 'https://www.apple.com', 'maxAge': 1, 'address1': 'One Apple Park Way', 'industry': 'Consumer Electronics', 'ebitdaMargins': 0.3343, 'profitMargins': 0.25709, 'grossMargins': 0.43313998, 'operatingCashflow': 118224003072, 'revenueGrowth': 0.019, 'operatingMargins': 0.30533, 'ebitda': 129556996096, 'targetLowPrice': 136, 'recommendationKey': 'buy', 'grossProfits': 152836000000, 'freeCashflow': 83344621568, 'targetMedianPrice': 185, 'currentPrice': 163.25, 'earningsGrowth': -0.077, 'currentRatio': 0.865, 'returnOnAssets': 0.22204, 'numberOfAnalystOpinions': 44, 'targetMeanPrice': 182.51, 'debtToEquity': 205.984, 'returnOnEquity': 1.62816, 'targetHighPrice': 214, 'totalCash': 48230998016, 'totalDebt': 119691001856, 'totalRevenue': 387541991424, 'totalCashPerShare': 3.001, 'financialCurrency': 'USD', 'revenuePerShare': 23.732, 'quickRatio': 0.697, 'recommendationMean': 1.9, 'exchange': 'NMS', 'shortName': 'Apple Inc.', 'longName': 'Apple Inc.', 'exchangeTimezoneName': 'America/New_York', 'exchangeTimezoneShortName': 'EDT', 'isEsgPopulated': False, 'gmtOffSetMilliseconds': '-14400000', 'quoteType': 'EQUITY', 'symbol': 'AAPL', 'messageBoardId': 'finmb_24937', 'market': 'us_market', 'annualHoldingsTurnover': None, 'enterpriseToRevenue': 6.882, 'beta3Year': None, 'enterpriseToEbitda': 20.586, '52WeekChange': 0.088873744, 'morningStarRiskRating': None, 'forwardEps': 6.45, 'revenueQuarterlyGrowth': None, 'sharesOutstanding': 16070800384, 'fundInceptionDate': None, 'annualReportExpenseRatio': None, 'totalAssets': None, 'bookValue': 3.61, 'sharesShort': 104993162, 'sharesPercentSharesOut': 0.0064999997, 'fundFamily': None, 'lastFiscalYearEnd': 1632528000, 'heldPercentInstitutions': 0.60117, 'netIncomeToCommon': 99632996352, 'trailingEps': 6.05, 'lastDividendValue': 0.23, 'SandP52WeekChange': -0.070745885, 'priceToBook': 45.221607, 'heldPercentInsiders': 0.00071999995, 'nextFiscalYearEnd': 1695600000, 'yield': None, 'mostRecentQuarter': 1656115200, 'shortRatio': 1.32, 'sharesShortPreviousMonthDate': 1655251200, 'floatShares': 16054038418, 'beta': 1.19455, 'enterpriseValue': 2667047026688, 'priceHint': 2, 'threeYearAverageReturn': None, 'lastSplitDate': 1598832000, 'lastSplitFactor': '4:1', 'legalType': None, 'lastDividendDate': 1651795200, 'morningStarOverallRating': None, 'earningsQuarterlyGrowth': -0.106, 'priceToSalesTrailing12Months': 6.769739, 'dateShortInterest': 1657843200, 'pegRatio': 2.67, 'ytdReturn': None, 'forwardPE': 25.310078, 'lastCapGain': None, 'shortPercentOfFloat': 0.0064999997, 'sharesShortPriorMonth': 120066688, 'impliedSharesOutstanding': 0, 'category': None, 'fiveYearAverageReturn': None, 'previousClose': 160.01, 'regularMarketOpen': 160.84, 'twoHundredDayAverage': 159.12296, 'trailingAnnualDividendYield': 0.0055621522, 'payoutRatio': 0.1471, 'volume24Hr': None, 'regularMarketDayHigh': 163.3199, 'navPrice': None, 'averageDailyVolume10Day': 69464080, 'regularMarketPreviousClose': 160.01, 'fiftyDayAverage': 145.0908, 'trailingAnnualDividendRate': 0.89, 'open': 160.84, 'toCurrency': None, 'averageVolume10days': 69464080, 'expireDate': None, 'algorithm': None, 'dividendRate': 0.92, 'exDividendDate': 1659657600, 'circulatingSupply': None, 'startDate': None, 'regularMarketDayLow': 160.75, 'currency': 'USD', 'trailingPE': 26.98347, 'regularMarketVolume': 11977863, 'lastMarket': None, 'maxSupply': None, 'openInterest': None, 'marketCap': 2623558123520, 'volumeAllCurrencies': None, 'strikePrice': None, 'averageVolume': 88910038, 'dayLow': 160.75, 'ask': 162.54, 'askSize': 1300, 'volume': 11977863, 'fiftyTwoWeekHigh': 182.94, 'fromCurrency': None, 'fiveYearAvgDividendYield': 1.05, 'fiftyTwoWeekLow': 129.04, 'bid': 162.47, 'tradeable': False, 'dividendYield': 0.0057, 'bidSize': 1200, 'dayHigh': 163.3199, 'coinMarketCapLink': None, 'regularMarketPrice': 163.25, 'preMarketPrice': 160.77, 'logo_url': 'https://logo.clearbit.com/apple.com'}\n"
     ]
    }
   ],
   "source": [
    "apple_info = apple.info\n",
    "print(apple_info)"
   ]
  },
  {
   "cell_type": "markdown",
   "metadata": {},
   "source": [
    "We can get to know more about the company using the `'longBusinessSummary'` key"
   ]
  },
  {
   "cell_type": "code",
   "execution_count": 16,
   "metadata": {},
   "outputs": [
    {
     "name": "stdout",
     "output_type": "stream",
     "text": [
      "Apple Inc. designs, manufactures, and markets smartphones, personal computers, tablets, wearables, and accessories worldwide. It also sells various related services. In addition, the company offers iPhone, a line of smartphones; Mac, a line of personal computers; iPad, a line of multi-purpose tablets; AirPods Max, an over-ear wireless headphone; and wearables, home, and accessories comprising AirPods, Apple TV, Apple Watch, Beats products, HomePod, and iPod touch. Further, it provides AppleCare support services; cloud services store services; and operates various platforms, including the App Store that allow customers to discover and download applications and digital content, such as books, music, video, games, and podcasts. Additionally, the company offers various services, such as Apple Arcade, a game subscription service; Apple Music, which offers users a curated listening experience with on-demand radio stations; Apple News+, a subscription news and magazine service; Apple TV+, which offers exclusive original content; Apple Card, a co-branded credit card; and Apple Pay, a cashless payment service, as well as licenses its intellectual property. The company serves consumers, and small and mid-sized businesses; and the education, enterprise, and government markets. It distributes third-party applications for its products through the App Store. The company also sells its products through its retail and online stores, and direct sales force; and third-party cellular network carriers, wholesalers, retailers, and resellers. Apple Inc. was incorporated in 1977 and is headquartered in Cupertino, California.\n"
     ]
    }
   ],
   "source": [
    "# summary about the company\n",
    "print(apple_info['longBusinessSummary'])"
   ]
  },
  {
   "cell_type": "markdown",
   "metadata": {},
   "source": [
    "### **Extracting Share Price**\n",
    "A [share](https://www.investopedia.com/terms/s/shares.asp) is the single smallest part of a company's stock that you can buy. The prices of these shares fluctuate over time. \n",
    "\n",
    "Using the `history()` method we can get the share price of the stock over a certain period of time. \n",
    "\n",
    "Using the period parameter we can set how far back from the present to get data. The options for period are 1 day (1d), 5d, 1 month (1mo) , 3mo, 6mo, 1 year (1y), 2y, 5y, 10y, ytd, and max."
   ]
  },
  {
   "cell_type": "code",
   "execution_count": 17,
   "metadata": {},
   "outputs": [],
   "source": [
    "apple_share_price_data = apple.history(period=\"max\")"
   ]
  },
  {
   "cell_type": "markdown",
   "metadata": {},
   "source": [
    "The format that the data is returned in, is a Pandas DataFrame. With the Date as the index, and the share `Open`, `High`, `Low`, `Close`, `Volume`, and `Stock Splits` are given for each day, as columns."
   ]
  },
  {
   "cell_type": "code",
   "execution_count": 18,
   "metadata": {},
   "outputs": [
    {
     "name": "stdout",
     "output_type": "stream",
     "text": [
      "                Open      High       Low     Close     Volume  Dividends  \\\n",
      "Date                                                                       \n",
      "1980-12-12  0.100178  0.100614  0.100178  0.100178  469033600        0.0   \n",
      "1980-12-15  0.095388  0.095388  0.094952  0.094952  175884800        0.0   \n",
      "1980-12-16  0.088418  0.088418  0.087983  0.087983  105728000        0.0   \n",
      "1980-12-17  0.090160  0.090596  0.090160  0.090160   86441600        0.0   \n",
      "1980-12-18  0.092774  0.093210  0.092774  0.092774   73449600        0.0   \n",
      "\n",
      "            Stock Splits  \n",
      "Date                      \n",
      "1980-12-12           0.0  \n",
      "1980-12-15           0.0  \n",
      "1980-12-16           0.0  \n",
      "1980-12-17           0.0  \n",
      "1980-12-18           0.0  \n"
     ]
    }
   ],
   "source": [
    "# print the first 5 rows\n",
    "print(apple_share_price_data.head())"
   ]
  },
  {
   "cell_type": "markdown",
   "metadata": {},
   "source": [
    "We can reset the index of the DataFrame with the `reset_index` function. We also set the `inplace` parameter to `True` so the change takes place to the DataFrame itself."
   ]
  },
  {
   "cell_type": "code",
   "execution_count": 19,
   "metadata": {},
   "outputs": [
    {
     "name": "stdout",
     "output_type": "stream",
     "text": [
      "        Date      Open      High       Low     Close     Volume  Dividends  \\\n",
      "0 1980-12-12  0.100178  0.100614  0.100178  0.100178  469033600        0.0   \n",
      "1 1980-12-15  0.095388  0.095388  0.094952  0.094952  175884800        0.0   \n",
      "2 1980-12-16  0.088418  0.088418  0.087983  0.087983  105728000        0.0   \n",
      "3 1980-12-17  0.090160  0.090596  0.090160  0.090160   86441600        0.0   \n",
      "4 1980-12-18  0.092774  0.093210  0.092774  0.092774   73449600        0.0   \n",
      "\n",
      "   Stock Splits  \n",
      "0           0.0  \n",
      "1           0.0  \n",
      "2           0.0  \n",
      "3           0.0  \n",
      "4           0.0  \n"
     ]
    }
   ],
   "source": [
    "apple_share_price_data.reset_index(inplace=True)\n",
    "\n",
    "print(apple_share_price_data.head())"
   ]
  },
  {
   "cell_type": "markdown",
   "metadata": {},
   "source": [
    "We can plot the `Open` price against the `Date`:"
   ]
  },
  {
   "cell_type": "code",
   "execution_count": 20,
   "metadata": {},
   "outputs": [
    {
     "data": {
      "text/plain": [
       "<AxesSubplot:xlabel='Date'>"
      ]
     },
     "execution_count": 20,
     "metadata": {},
     "output_type": "execute_result"
    },
    {
     "data": {
      "image/png": "[encoded data removed]",
      "text/plain": [
       "<Figure size 432x288 with 1 Axes>"
      ]
     },
     "metadata": {
      "needs_background": "light"
     },
     "output_type": "display_data"
    }
   ],
   "source": [
    "apple_share_price_data.plot(x=\"Date\", y=\"Open\")"
   ]
  },
  {
   "cell_type": "markdown",
   "metadata": {},
   "source": [
    "### **Extracting Dividends**\n",
    "`Dividends` are the distribution of a company's profits to shareholders. In this case they are defined as an amount of money returned per share an investor owns. Using the variable dividends we can get a dataframe of the data. The period of the data is given by the period defined in the `history` function."
   ]
  },
  {
   "cell_type": "code",
   "execution_count": 21,
   "metadata": {},
   "outputs": [
    {
     "data": {
      "text/plain": [
       "Date\n",
       "1987-05-11    0.000536\n",
       "1987-08-10    0.000536\n",
       "1987-11-17    0.000714\n",
       "1988-02-12    0.000714\n",
       "1988-05-16    0.000714\n",
       "                ...   \n",
       "2021-05-07    0.220000\n",
       "2021-08-06    0.220000\n",
       "2021-11-05    0.220000\n",
       "2022-02-04    0.220000\n",
       "2022-05-06    0.230000\n",
       "Name: Dividends, Length: 75, dtype: float64"
      ]
     },
     "execution_count": 21,
     "metadata": {},
     "output_type": "execute_result"
    }
   ],
   "source": [
    "apple.dividends"
   ]
  },
  {
   "cell_type": "markdown",
   "metadata": {},
   "source": [
    "We can plot the dividends overtime:"
   ]
  },
  {
   "cell_type": "code",
   "execution_count": 23,
   "metadata": {},
   "outputs": [
    {
     "data": {
      "text/plain": [
       "<AxesSubplot:xlabel='Date'>"
      ]
     },
     "execution_count": 23,
     "metadata": {},
     "output_type": "execute_result"
    },
    {
     "data": {
      "image/png": "[encoded data removed]",
      "text/plain": [
       "<Figure size 432x288 with 1 Axes>"
      ]
     },
     "metadata": {
      "needs_background": "light"
     },
     "output_type": "display_data"
    }
   ],
   "source": [
    "apple.dividends.plot()"
   ]
  },
  {
   "cell_type": "markdown",
   "metadata": {},
   "source": [
    "Now using the Ticker module, let's create an object for AMD (Advanced Micro Devices) with the ticker symbol is `AMD` called; name the object `amd`."
   ]
  },
  {
   "cell_type": "code",
   "execution_count": 30,
   "metadata": {},
   "outputs": [],
   "source": [
    "# For Advanced Micro Devices\n",
    "amd = yf.Ticker('AMD')"
   ]
  },
  {
   "cell_type": "markdown",
   "metadata": {},
   "source": [
    "Using the key `country`, let's find the country the stock belongs to:"
   ]
  },
  {
   "cell_type": "code",
   "execution_count": 31,
   "metadata": {},
   "outputs": [
    {
     "name": "stdout",
     "output_type": "stream",
     "text": [
      "United States\n"
     ]
    }
   ],
   "source": [
    "amd_country = amd.info['country']\n",
    "print(amd_country)"
   ]
  },
  {
   "cell_type": "markdown",
   "metadata": {},
   "source": [
    "Using the key `sector` lets find the sector the stock belongs to:"
   ]
  },
  {
   "cell_type": "code",
   "execution_count": 32,
   "metadata": {},
   "outputs": [
    {
     "name": "stdout",
     "output_type": "stream",
     "text": [
      "Technology\n"
     ]
    }
   ],
   "source": [
    "amd_sector = amd.info['sector']\n",
    "print(amd_sector)"
   ]
  },
  {
   "cell_type": "markdown",
   "metadata": {},
   "source": [
    "Now, let's obtain stock data for AMD using the `history` function - setting the `period` to `max`. And we'll consider the Volume traded on the first day (first row)."
   ]
  },
  {
   "cell_type": "code",
   "execution_count": 41,
   "metadata": {},
   "outputs": [
    {
     "name": "stdout",
     "output_type": "stream",
     "text": [
      "        Date  Open   High     Low    Close  Volume  Dividends  Stock Splits\n",
      "1 1980-03-18   0.0  3.125  2.9375  3.03125  727200          0           0.0\n"
     ]
    }
   ],
   "source": [
    "amd_share_price_data = amd.history(period='max')\n",
    "\n",
    "# reset index\n",
    "amd_share_price_data.reset_index(inplace=True)\n",
    "\n",
    "# print stock data\n",
    "print(amd_share_price_data)\n",
    "\n",
    "# print the volume traded the first day (first row)\n",
    "print(amd_share_price_data.loc[[1,]])"
   ]
  }
 ],
 "metadata": {
  "kernelspec": {
   "display_name": "Python 3.9.7 ('base')",
   "language": "python",
   "name": "python3"
  },
  "language_info": {
   "codemirror_mode": {
    "name": "ipython",
    "version": 3
   },
   "file_extension": ".py",
   "mimetype": "text/x-python",
   "name": "python",
   "nbconvert_exporter": "python",
   "pygments_lexer": "ipython3",
   "version": "3.9.7"
  },
  "orig_nbformat": 4,
  "vscode": {
   "interpreter": {
    "hash": "830c937019861666cce61b402dd489df1159c5110f29728a226ccbc42880e38c"
   }
  }
 },
 "nbformat": 4,
 "nbformat_minor": 2
}
